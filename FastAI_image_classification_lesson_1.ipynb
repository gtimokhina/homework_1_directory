{
  "nbformat": 4,
  "nbformat_minor": 0,
  "metadata": {
    "colab": {
      "name": "Untitled7.ipynb",
      "provenance": [],
      "authorship_tag": "ABX9TyPKtcmNwSRV6H/IoSietZ55",
      "include_colab_link": true
    },
    "kernelspec": {
      "name": "python3",
      "display_name": "Python 3"
    },
    "accelerator": "GPU",
    "widgets": {
      "application/vnd.jupyter.widget-state+json": {
        "3534403fd7d94ec5b857a62aadad1093": {
          "model_module": "@jupyter-widgets/controls",
          "model_name": "HBoxModel",
          "state": {
            "_view_name": "HBoxView",
            "_dom_classes": [],
            "_model_name": "HBoxModel",
            "_view_module": "@jupyter-widgets/controls",
            "_model_module_version": "1.5.0",
            "_view_count": null,
            "_view_module_version": "1.5.0",
            "box_style": "",
            "layout": "IPY_MODEL_c8f192f23faf4179a2a364641eedde2e",
            "_model_module": "@jupyter-widgets/controls",
            "children": [
              "IPY_MODEL_5b47d17fa5a3432487a8c61910621b4a",
              "IPY_MODEL_92d30038c24e497fbac0c99a1023617d"
            ]
          }
        },
        "c8f192f23faf4179a2a364641eedde2e": {
          "model_module": "@jupyter-widgets/base",
          "model_name": "LayoutModel",
          "state": {
            "_view_name": "LayoutView",
            "grid_template_rows": null,
            "right": null,
            "justify_content": null,
            "_view_module": "@jupyter-widgets/base",
            "overflow": null,
            "_model_module_version": "1.2.0",
            "_view_count": null,
            "flex_flow": null,
            "width": null,
            "min_width": null,
            "border": null,
            "align_items": null,
            "bottom": null,
            "_model_module": "@jupyter-widgets/base",
            "top": null,
            "grid_column": null,
            "overflow_y": null,
            "overflow_x": null,
            "grid_auto_flow": null,
            "grid_area": null,
            "grid_template_columns": null,
            "flex": null,
            "_model_name": "LayoutModel",
            "justify_items": null,
            "grid_row": null,
            "max_height": null,
            "align_content": null,
            "visibility": null,
            "align_self": null,
            "height": null,
            "min_height": null,
            "padding": null,
            "grid_auto_rows": null,
            "grid_gap": null,
            "max_width": null,
            "order": null,
            "_view_module_version": "1.2.0",
            "grid_template_areas": null,
            "object_position": null,
            "object_fit": null,
            "grid_auto_columns": null,
            "margin": null,
            "display": null,
            "left": null
          }
        },
        "5b47d17fa5a3432487a8c61910621b4a": {
          "model_module": "@jupyter-widgets/controls",
          "model_name": "IntProgressModel",
          "state": {
            "_view_name": "ProgressView",
            "style": "IPY_MODEL_8d6603f6c1994a228a9faa9187d32c52",
            "_dom_classes": [],
            "description": "",
            "_model_name": "IntProgressModel",
            "bar_style": "success",
            "max": 87306240,
            "_view_module": "@jupyter-widgets/controls",
            "_model_module_version": "1.5.0",
            "value": 87306240,
            "_view_count": null,
            "_view_module_version": "1.5.0",
            "orientation": "horizontal",
            "min": 0,
            "description_tooltip": null,
            "_model_module": "@jupyter-widgets/controls",
            "layout": "IPY_MODEL_edac06c27079498db1ec1cf03e28c77b"
          }
        },
        "92d30038c24e497fbac0c99a1023617d": {
          "model_module": "@jupyter-widgets/controls",
          "model_name": "HTMLModel",
          "state": {
            "_view_name": "HTMLView",
            "style": "IPY_MODEL_1c9534560c6a48f4b580c3cd09f0549a",
            "_dom_classes": [],
            "description": "",
            "_model_name": "HTMLModel",
            "placeholder": "​",
            "_view_module": "@jupyter-widgets/controls",
            "_model_module_version": "1.5.0",
            "value": "100% 83.3M/83.3M [00:01&lt;00:00, 57.5MB/s]",
            "_view_count": null,
            "_view_module_version": "1.5.0",
            "description_tooltip": null,
            "_model_module": "@jupyter-widgets/controls",
            "layout": "IPY_MODEL_b9f1abef77334e00a73f2e28fa6d0c94"
          }
        },
        "8d6603f6c1994a228a9faa9187d32c52": {
          "model_module": "@jupyter-widgets/controls",
          "model_name": "ProgressStyleModel",
          "state": {
            "_view_name": "StyleView",
            "_model_name": "ProgressStyleModel",
            "description_width": "",
            "_view_module": "@jupyter-widgets/base",
            "_model_module_version": "1.5.0",
            "_view_count": null,
            "_view_module_version": "1.2.0",
            "bar_color": null,
            "_model_module": "@jupyter-widgets/controls"
          }
        },
        "edac06c27079498db1ec1cf03e28c77b": {
          "model_module": "@jupyter-widgets/base",
          "model_name": "LayoutModel",
          "state": {
            "_view_name": "LayoutView",
            "grid_template_rows": null,
            "right": null,
            "justify_content": null,
            "_view_module": "@jupyter-widgets/base",
            "overflow": null,
            "_model_module_version": "1.2.0",
            "_view_count": null,
            "flex_flow": null,
            "width": null,
            "min_width": null,
            "border": null,
            "align_items": null,
            "bottom": null,
            "_model_module": "@jupyter-widgets/base",
            "top": null,
            "grid_column": null,
            "overflow_y": null,
            "overflow_x": null,
            "grid_auto_flow": null,
            "grid_area": null,
            "grid_template_columns": null,
            "flex": null,
            "_model_name": "LayoutModel",
            "justify_items": null,
            "grid_row": null,
            "max_height": null,
            "align_content": null,
            "visibility": null,
            "align_self": null,
            "height": null,
            "min_height": null,
            "padding": null,
            "grid_auto_rows": null,
            "grid_gap": null,
            "max_width": null,
            "order": null,
            "_view_module_version": "1.2.0",
            "grid_template_areas": null,
            "object_position": null,
            "object_fit": null,
            "grid_auto_columns": null,
            "margin": null,
            "display": null,
            "left": null
          }
        },
        "1c9534560c6a48f4b580c3cd09f0549a": {
          "model_module": "@jupyter-widgets/controls",
          "model_name": "DescriptionStyleModel",
          "state": {
            "_view_name": "StyleView",
            "_model_name": "DescriptionStyleModel",
            "description_width": "",
            "_view_module": "@jupyter-widgets/base",
            "_model_module_version": "1.5.0",
            "_view_count": null,
            "_view_module_version": "1.2.0",
            "_model_module": "@jupyter-widgets/controls"
          }
        },
        "b9f1abef77334e00a73f2e28fa6d0c94": {
          "model_module": "@jupyter-widgets/base",
          "model_name": "LayoutModel",
          "state": {
            "_view_name": "LayoutView",
            "grid_template_rows": null,
            "right": null,
            "justify_content": null,
            "_view_module": "@jupyter-widgets/base",
            "overflow": null,
            "_model_module_version": "1.2.0",
            "_view_count": null,
            "flex_flow": null,
            "width": null,
            "min_width": null,
            "border": null,
            "align_items": null,
            "bottom": null,
            "_model_module": "@jupyter-widgets/base",
            "top": null,
            "grid_column": null,
            "overflow_y": null,
            "overflow_x": null,
            "grid_auto_flow": null,
            "grid_area": null,
            "grid_template_columns": null,
            "flex": null,
            "_model_name": "LayoutModel",
            "justify_items": null,
            "grid_row": null,
            "max_height": null,
            "align_content": null,
            "visibility": null,
            "align_self": null,
            "height": null,
            "min_height": null,
            "padding": null,
            "grid_auto_rows": null,
            "grid_gap": null,
            "max_width": null,
            "order": null,
            "_view_module_version": "1.2.0",
            "grid_template_areas": null,
            "object_position": null,
            "object_fit": null,
            "grid_auto_columns": null,
            "margin": null,
            "display": null,
            "left": null
          }
        },
        "8bc682d9193443728f90ad960c89805c": {
          "model_module": "@jupyter-widgets/controls",
          "model_name": "HBoxModel",
          "state": {
            "_view_name": "HBoxView",
            "_dom_classes": [],
            "_model_name": "HBoxModel",
            "_view_module": "@jupyter-widgets/controls",
            "_model_module_version": "1.5.0",
            "_view_count": null,
            "_view_module_version": "1.5.0",
            "box_style": "",
            "layout": "IPY_MODEL_5029535363f94bc8a7775cdc871c1b33",
            "_model_module": "@jupyter-widgets/controls",
            "children": [
              "IPY_MODEL_be8b7a33e3324d66b46bf38a4ce0c1cd",
              "IPY_MODEL_a5b25579aaa146aab3f9e40b8dd26eb7"
            ]
          }
        },
        "5029535363f94bc8a7775cdc871c1b33": {
          "model_module": "@jupyter-widgets/base",
          "model_name": "LayoutModel",
          "state": {
            "_view_name": "LayoutView",
            "grid_template_rows": null,
            "right": null,
            "justify_content": null,
            "_view_module": "@jupyter-widgets/base",
            "overflow": null,
            "_model_module_version": "1.2.0",
            "_view_count": null,
            "flex_flow": null,
            "width": null,
            "min_width": null,
            "border": null,
            "align_items": null,
            "bottom": null,
            "_model_module": "@jupyter-widgets/base",
            "top": null,
            "grid_column": null,
            "overflow_y": null,
            "overflow_x": null,
            "grid_auto_flow": null,
            "grid_area": null,
            "grid_template_columns": null,
            "flex": null,
            "_model_name": "LayoutModel",
            "justify_items": null,
            "grid_row": null,
            "max_height": null,
            "align_content": null,
            "visibility": null,
            "align_self": null,
            "height": null,
            "min_height": null,
            "padding": null,
            "grid_auto_rows": null,
            "grid_gap": null,
            "max_width": null,
            "order": null,
            "_view_module_version": "1.2.0",
            "grid_template_areas": null,
            "object_position": null,
            "object_fit": null,
            "grid_auto_columns": null,
            "margin": null,
            "display": null,
            "left": null
          }
        },
        "be8b7a33e3324d66b46bf38a4ce0c1cd": {
          "model_module": "@jupyter-widgets/controls",
          "model_name": "IntProgressModel",
          "state": {
            "_view_name": "ProgressView",
            "style": "IPY_MODEL_6756c87ef97c4cfea431bb186580c035",
            "_dom_classes": [],
            "description": "",
            "_model_name": "IntProgressModel",
            "bar_style": "success",
            "max": 102502400,
            "_view_module": "@jupyter-widgets/controls",
            "_model_module_version": "1.5.0",
            "value": 102502400,
            "_view_count": null,
            "_view_module_version": "1.5.0",
            "orientation": "horizontal",
            "min": 0,
            "description_tooltip": null,
            "_model_module": "@jupyter-widgets/controls",
            "layout": "IPY_MODEL_9800d6484f304ffca9941d1b541c2d7c"
          }
        },
        "a5b25579aaa146aab3f9e40b8dd26eb7": {
          "model_module": "@jupyter-widgets/controls",
          "model_name": "HTMLModel",
          "state": {
            "_view_name": "HTMLView",
            "style": "IPY_MODEL_9143540ffd224e0fbd2d1dbab2308e49",
            "_dom_classes": [],
            "description": "",
            "_model_name": "HTMLModel",
            "placeholder": "​",
            "_view_module": "@jupyter-widgets/controls",
            "_model_module_version": "1.5.0",
            "value": "100% 97.8M/97.8M [00:01&lt;00:00, 60.5MB/s]",
            "_view_count": null,
            "_view_module_version": "1.5.0",
            "description_tooltip": null,
            "_model_module": "@jupyter-widgets/controls",
            "layout": "IPY_MODEL_6111e4c4e7c740929d20975bab063954"
          }
        },
        "6756c87ef97c4cfea431bb186580c035": {
          "model_module": "@jupyter-widgets/controls",
          "model_name": "ProgressStyleModel",
          "state": {
            "_view_name": "StyleView",
            "_model_name": "ProgressStyleModel",
            "description_width": "",
            "_view_module": "@jupyter-widgets/base",
            "_model_module_version": "1.5.0",
            "_view_count": null,
            "_view_module_version": "1.2.0",
            "bar_color": null,
            "_model_module": "@jupyter-widgets/controls"
          }
        },
        "9800d6484f304ffca9941d1b541c2d7c": {
          "model_module": "@jupyter-widgets/base",
          "model_name": "LayoutModel",
          "state": {
            "_view_name": "LayoutView",
            "grid_template_rows": null,
            "right": null,
            "justify_content": null,
            "_view_module": "@jupyter-widgets/base",
            "overflow": null,
            "_model_module_version": "1.2.0",
            "_view_count": null,
            "flex_flow": null,
            "width": null,
            "min_width": null,
            "border": null,
            "align_items": null,
            "bottom": null,
            "_model_module": "@jupyter-widgets/base",
            "top": null,
            "grid_column": null,
            "overflow_y": null,
            "overflow_x": null,
            "grid_auto_flow": null,
            "grid_area": null,
            "grid_template_columns": null,
            "flex": null,
            "_model_name": "LayoutModel",
            "justify_items": null,
            "grid_row": null,
            "max_height": null,
            "align_content": null,
            "visibility": null,
            "align_self": null,
            "height": null,
            "min_height": null,
            "padding": null,
            "grid_auto_rows": null,
            "grid_gap": null,
            "max_width": null,
            "order": null,
            "_view_module_version": "1.2.0",
            "grid_template_areas": null,
            "object_position": null,
            "object_fit": null,
            "grid_auto_columns": null,
            "margin": null,
            "display": null,
            "left": null
          }
        },
        "9143540ffd224e0fbd2d1dbab2308e49": {
          "model_module": "@jupyter-widgets/controls",
          "model_name": "DescriptionStyleModel",
          "state": {
            "_view_name": "StyleView",
            "_model_name": "DescriptionStyleModel",
            "description_width": "",
            "_view_module": "@jupyter-widgets/base",
            "_model_module_version": "1.5.0",
            "_view_count": null,
            "_view_module_version": "1.2.0",
            "_model_module": "@jupyter-widgets/controls"
          }
        },
        "6111e4c4e7c740929d20975bab063954": {
          "model_module": "@jupyter-widgets/base",
          "model_name": "LayoutModel",
          "state": {
            "_view_name": "LayoutView",
            "grid_template_rows": null,
            "right": null,
            "justify_content": null,
            "_view_module": "@jupyter-widgets/base",
            "overflow": null,
            "_model_module_version": "1.2.0",
            "_view_count": null,
            "flex_flow": null,
            "width": null,
            "min_width": null,
            "border": null,
            "align_items": null,
            "bottom": null,
            "_model_module": "@jupyter-widgets/base",
            "top": null,
            "grid_column": null,
            "overflow_y": null,
            "overflow_x": null,
            "grid_auto_flow": null,
            "grid_area": null,
            "grid_template_columns": null,
            "flex": null,
            "_model_name": "LayoutModel",
            "justify_items": null,
            "grid_row": null,
            "max_height": null,
            "align_content": null,
            "visibility": null,
            "align_self": null,
            "height": null,
            "min_height": null,
            "padding": null,
            "grid_auto_rows": null,
            "grid_gap": null,
            "max_width": null,
            "order": null,
            "_view_module_version": "1.2.0",
            "grid_template_areas": null,
            "object_position": null,
            "object_fit": null,
            "grid_auto_columns": null,
            "margin": null,
            "display": null,
            "left": null
          }
        }
      }
    }
  },
  "cells": [
    {
      "cell_type": "markdown",
      "metadata": {
        "id": "view-in-github",
        "colab_type": "text"
      },
      "source": [
        "<a href=\"https://colab.research.google.com/github/gtimokhina/homework_1_directory/blob/master/FastAI_image_classification_lesson_1.ipynb\" target=\"_parent\"><img src=\"https://colab.research.google.com/assets/colab-badge.svg\" alt=\"Open In Colab\"/></a>"
      ]
    },
    {
      "cell_type": "code",
      "metadata": {
        "id": "tiKZDdqI_3QQ",
        "colab_type": "code",
        "colab": {}
      },
      "source": [
        "%reload_ext autoreload\n",
        "%autoreload 2\n",
        "%matplotlib inline"
      ],
      "execution_count": 0,
      "outputs": []
    },
    {
      "cell_type": "markdown",
      "metadata": {
        "id": "-JPusdW6ADnL",
        "colab_type": "text"
      },
      "source": [
        "## Import fastai libraries"
      ]
    },
    {
      "cell_type": "code",
      "metadata": {
        "id": "q5l0yhzMAgmT",
        "colab_type": "code",
        "colab": {}
      },
      "source": [
        "from fastai.vision import *\n",
        "from fastai.metrics import error_rate"
      ],
      "execution_count": 0,
      "outputs": []
    },
    {
      "cell_type": "code",
      "metadata": {
        "id": "qaLP8s15AB-E",
        "colab_type": "code",
        "colab": {}
      },
      "source": [
        "bs = 64\n",
        "# bs = 16   # uncomment this line if you run out of memory even after clicking Kernel->Restart"
      ],
      "execution_count": 0,
      "outputs": []
    },
    {
      "cell_type": "markdown",
      "metadata": {
        "id": "e4ezSNZEBgD3",
        "colab_type": "text"
      },
      "source": [
        "## Use untar_data function to load and extract data. Check *help(untar_data)* for more info"
      ]
    },
    {
      "cell_type": "code",
      "metadata": {
        "id": "Af7yqklDQWqS",
        "colab_type": "code",
        "colab": {
          "base_uri": "https://localhost:8080/",
          "height": 51
        },
        "outputId": "c1459138-f466-4a2d-b133-cfb2f84753a8"
      },
      "source": [
        "path = untar_data(URLs.CIFAR); path"
      ],
      "execution_count": 25,
      "outputs": [
        {
          "output_type": "stream",
          "text": [
            "Downloading http://files.fast.ai/data/examples/cifar10\n"
          ],
          "name": "stdout"
        },
        {
          "output_type": "display_data",
          "data": {
            "text/html": [
              ""
            ],
            "text/plain": [
              "<IPython.core.display.HTML object>"
            ]
          },
          "metadata": {
            "tags": []
          }
        },
        {
          "output_type": "execute_result",
          "data": {
            "text/plain": [
              "PosixPath('/root/.fastai/data/cifar10')"
            ]
          },
          "metadata": {
            "tags": []
          },
          "execution_count": 25
        }
      ]
    },
    {
      "cell_type": "markdown",
      "metadata": {
        "id": "RESvDa9KXO1Q",
        "colab_type": "text"
      },
      "source": [
        "## Check how data is located in folders"
      ]
    },
    {
      "cell_type": "code",
      "metadata": {
        "id": "yfqgawoUQjVx",
        "colab_type": "code",
        "colab": {
          "base_uri": "https://localhost:8080/",
          "height": 68
        },
        "outputId": "13a0ca1d-fdf2-4956-aba4-c9decf4f3e0c"
      },
      "source": [
        "path.ls()"
      ],
      "execution_count": 26,
      "outputs": [
        {
          "output_type": "execute_result",
          "data": {
            "text/plain": [
              "[PosixPath('/root/.fastai/data/cifar10/test'),\n",
              " PosixPath('/root/.fastai/data/cifar10/labels.txt'),\n",
              " PosixPath('/root/.fastai/data/cifar10/train')]"
            ]
          },
          "metadata": {
            "tags": []
          },
          "execution_count": 26
        }
      ]
    },
    {
      "cell_type": "markdown",
      "metadata": {
        "id": "xRlQ1I64Xs7z",
        "colab_type": "text"
      },
      "source": [
        "## Store locations on data in variables\n"
      ]
    },
    {
      "cell_type": "code",
      "metadata": {
        "id": "RUWDqef1ZGM_",
        "colab_type": "code",
        "colab": {}
      },
      "source": [
        "path_test = path/'test'\n",
        "path_train = path/'train'"
      ],
      "execution_count": 0,
      "outputs": []
    },
    {
      "cell_type": "code",
      "metadata": {
        "id": "jHwAvcb8j-NG",
        "colab_type": "code",
        "colab": {
          "base_uri": "https://localhost:8080/",
          "height": 187
        },
        "outputId": "4313738f-5a83-4d1b-b216-4edb8d2487bb"
      },
      "source": [
        "path_train.ls()"
      ],
      "execution_count": 28,
      "outputs": [
        {
          "output_type": "execute_result",
          "data": {
            "text/plain": [
              "[PosixPath('/root/.fastai/data/cifar10/train/truck'),\n",
              " PosixPath('/root/.fastai/data/cifar10/train/horse'),\n",
              " PosixPath('/root/.fastai/data/cifar10/train/frog'),\n",
              " PosixPath('/root/.fastai/data/cifar10/train/ship'),\n",
              " PosixPath('/root/.fastai/data/cifar10/train/dog'),\n",
              " PosixPath('/root/.fastai/data/cifar10/train/deer'),\n",
              " PosixPath('/root/.fastai/data/cifar10/train/cat'),\n",
              " PosixPath('/root/.fastai/data/cifar10/train/automobile'),\n",
              " PosixPath('/root/.fastai/data/cifar10/train/airplane'),\n",
              " PosixPath('/root/.fastai/data/cifar10/train/bird')]"
            ]
          },
          "metadata": {
            "tags": []
          },
          "execution_count": 28
        }
      ]
    },
    {
      "cell_type": "markdown",
      "metadata": {
        "id": "Ar-Mx2dzZXn4",
        "colab_type": "text"
      },
      "source": [
        "## Create an object ImageDataBunch. It represents all of the data we need to build a model "
      ]
    },
    {
      "cell_type": "code",
      "metadata": {
        "id": "KkQqcAOZlFRE",
        "colab_type": "code",
        "colab": {
          "base_uri": "https://localhost:8080/",
          "height": 1000
        },
        "outputId": "be3db555-cc9d-4ea9-b2d6-e253318fcb22"
      },
      "source": [
        "help(ImageDataBunch)"
      ],
      "execution_count": 32,
      "outputs": [
        {
          "output_type": "stream",
          "text": [
            "Help on class ImageDataBunch in module fastai.vision.data:\n",
            "\n",
            "class ImageDataBunch(fastai.basic_data.DataBunch)\n",
            " |  DataBunch suitable for computer vision.\n",
            " |  \n",
            " |  Method resolution order:\n",
            " |      ImageDataBunch\n",
            " |      fastai.basic_data.DataBunch\n",
            " |      builtins.object\n",
            " |  \n",
            " |  Methods defined here:\n",
            " |  \n",
            " |  batch_stats(self, funcs:Collection[Callable]=None, ds_type:fastai.basic_data.DatasetType=<DatasetType.Train: 1>) -> torch.Tensor\n",
            " |      Grab a batch of data and call reduction function `func` per channel\n",
            " |  \n",
            " |  normalize(self, stats:Collection[torch.Tensor]=None, do_x:bool=True, do_y:bool=False) -> None\n",
            " |      Add normalize transform using `stats` (defaults to `DataBunch.batch_stats`)\n",
            " |  \n",
            " |  ----------------------------------------------------------------------\n",
            " |  Class methods defined here:\n",
            " |  \n",
            " |  create_from_ll(lls:fastai.data_block.LabelLists, bs:int=64, val_bs:int=None, ds_tfms:Union[Callable, Collection[Callable], NoneType]=None, num_workers:int=2, dl_tfms:Union[Collection[Callable], NoneType]=None, device:torch.device=None, test:Union[pathlib.Path, str, NoneType]=None, collate_fn:Callable=<function data_collate at 0x7f0c6711fa60>, size:int=None, no_check:bool=False, resize_method:fastai.vision.image.ResizeMethod=None, mult:int=None, padding_mode:str='reflection', mode:str='bilinear', tfm_y:bool=False) -> 'ImageDataBunch' from builtins.type\n",
            " |      Create an `ImageDataBunch` from `LabelLists` `lls` with potential `ds_tfms`.\n",
            " |  \n",
            " |  from_csv(path:Union[pathlib.Path, str], folder:Union[pathlib.Path, str]=None, label_delim:str=None, csv_labels:Union[pathlib.Path, str]='labels.csv', valid_pct:float=0.2, seed:int=None, fn_col:int=0, label_col:int=1, suffix:str='', delimiter:str=None, header:Union[int, str, NoneType]='infer', **kwargs:Any) -> 'ImageDataBunch' from builtins.type\n",
            " |      Create from a csv file in `path/csv_labels`.\n",
            " |  \n",
            " |  from_df(path:Union[pathlib.Path, str], df:pandas.core.frame.DataFrame, folder:Union[pathlib.Path, str]=None, label_delim:str=None, valid_pct:float=0.2, seed:int=None, fn_col:Union[int, Collection[int], str, Collection[str]]=0, label_col:Union[int, Collection[int], str, Collection[str]]=1, suffix:str='', **kwargs:Any) -> 'ImageDataBunch' from builtins.type\n",
            " |      Create from a `DataFrame` `df`.\n",
            " |  \n",
            " |  from_folder(path:Union[pathlib.Path, str], train:Union[pathlib.Path, str]='train', valid:Union[pathlib.Path, str]='valid', test:Union[pathlib.Path, str, NoneType]=None, valid_pct=None, seed:int=None, classes:Collection=None, **kwargs:Any) -> 'ImageDataBunch' from builtins.type\n",
            " |      Create from imagenet style dataset in `path` with `train`,`valid`,`test` subfolders (or provide `valid_pct`).\n",
            " |  \n",
            " |  from_lists(path:Union[pathlib.Path, str], fnames:Collection[pathlib.Path], labels:Collection[str], valid_pct:float=0.2, seed:int=None, item_cls:Callable=None, **kwargs) from builtins.type\n",
            " |      Create from list of `fnames` in `path`.\n",
            " |  \n",
            " |  from_name_func(path:Union[pathlib.Path, str], fnames:Collection[pathlib.Path], label_func:Callable, valid_pct:float=0.2, seed:int=None, **kwargs) from builtins.type\n",
            " |      Create from list of `fnames` in `path` with `label_func`.\n",
            " |  \n",
            " |  from_name_re(path:Union[pathlib.Path, str], fnames:Collection[pathlib.Path], pat:str, valid_pct:float=0.2, **kwargs) from builtins.type\n",
            " |      Create from list of `fnames` in `path` with re expression `pat`.\n",
            " |  \n",
            " |  ----------------------------------------------------------------------\n",
            " |  Static methods defined here:\n",
            " |  \n",
            " |  single_from_classes(path:Union[pathlib.Path, str], classes:Collection[str], ds_tfms:Union[Callable, Collection[Callable]]=None, **kwargs)\n",
            " |      Create an empty `ImageDataBunch` in `path` with `classes`. Typically used for inference.\n",
            " |  \n",
            " |  ----------------------------------------------------------------------\n",
            " |  Methods inherited from fastai.basic_data.DataBunch:\n",
            " |  \n",
            " |  __getattr__(self, k:int) -> Any\n",
            " |  \n",
            " |  __init__(self, train_dl:torch.utils.data.dataloader.DataLoader, valid_dl:torch.utils.data.dataloader.DataLoader, fix_dl:torch.utils.data.dataloader.DataLoader=None, test_dl:Union[torch.utils.data.dataloader.DataLoader, NoneType]=None, device:torch.device=None, dl_tfms:Union[Collection[Callable], NoneType]=None, path:Union[pathlib.Path, str]='.', collate_fn:Callable=<function data_collate at 0x7f0c6711fa60>, no_check:bool=False)\n",
            " |      Initialize self.  See help(type(self)) for accurate signature.\n",
            " |  \n",
            " |  __repr__(self) -> str\n",
            " |      Return repr(self).\n",
            " |  \n",
            " |  __setstate__(self, data:Any)\n",
            " |  \n",
            " |  add_test(self, items:Iterator, label:Any=None, tfms=None, tfm_y=None) -> None\n",
            " |      Add the `items` as a test set. Pass along `label` otherwise label them with `EmptyLabel`.\n",
            " |  \n",
            " |  add_tfm(self, tfm:Callable) -> None\n",
            " |  \n",
            " |  dl(self, ds_type:fastai.basic_data.DatasetType=<DatasetType.Valid: 2>) -> fastai.basic_data.DeviceDataLoader\n",
            " |      Returns appropriate `Dataset` for validation, training, or test (`ds_type`).\n",
            " |  \n",
            " |  export(self, file:Union[pathlib.Path, str, _io.BufferedWriter, _io.BytesIO]='export.pkl')\n",
            " |      Export the minimal state of `self` for inference in `self.path/file`. `file` can be file-like (file or buffer)\n",
            " |  \n",
            " |  one_batch(self, ds_type:fastai.basic_data.DatasetType=<DatasetType.Train: 1>, detach:bool=True, denorm:bool=True, cpu:bool=True) -> Collection[torch.Tensor]\n",
            " |      Get one batch from the data loader of `ds_type`. Optionally `detach` and `denorm`.\n",
            " |  \n",
            " |  one_item(self, item, detach:bool=False, denorm:bool=False, cpu:bool=False)\n",
            " |      Get `item` into a batch. Optionally `detach` and `denorm`.\n",
            " |  \n",
            " |  pre_transform = _db_pre_transform(self, train_tfm:List[Callable], valid_tfm:List[Callable])\n",
            " |      Call `train_tfm` and `valid_tfm` after opening image, before converting from `PIL.Image`\n",
            " |  \n",
            " |  presize = _presize(self, size:int, val_xtra_size:int=32, scale:Tuple[float]=(0.08, 1.0), ratio:Tuple[float]=(0.75, 1.3333333333333333), interpolation:int=2)\n",
            " |      Resize images to `size` using `RandomResizedCrop`, passing along `kwargs` to train transform\n",
            " |  \n",
            " |  remove_tfm(self, tfm:Callable) -> None\n",
            " |  \n",
            " |  sanity_check(self)\n",
            " |      Check the underlying data in the training set can be properly loaded.\n",
            " |  \n",
            " |  save(self, file:Union[pathlib.Path, str, _io.BufferedWriter, _io.BytesIO]='data_save.pkl') -> None\n",
            " |      Save the `DataBunch` in `self.path/file`. `file` can be file-like (file or buffer)\n",
            " |  \n",
            " |  show_batch(self, rows:int=5, ds_type:fastai.basic_data.DatasetType=<DatasetType.Train: 1>, reverse:bool=False, **kwargs) -> None\n",
            " |      Show a batch of data in `ds_type` on a few `rows`.\n",
            " |  \n",
            " |  ----------------------------------------------------------------------\n",
            " |  Class methods inherited from fastai.basic_data.DataBunch:\n",
            " |  \n",
            " |  create(train_ds:torch.utils.data.dataset.Dataset, valid_ds:torch.utils.data.dataset.Dataset, test_ds:Union[torch.utils.data.dataset.Dataset, NoneType]=None, path:Union[pathlib.Path, str]='.', bs:int=64, val_bs:int=None, num_workers:int=2, dl_tfms:Union[Collection[Callable], NoneType]=None, device:torch.device=None, collate_fn:Callable=<function data_collate at 0x7f0c6711fa60>, no_check:bool=False, **dl_kwargs) -> 'DataBunch' from builtins.type\n",
            " |      Create a `DataBunch` from `train_ds`, `valid_ds` and maybe `test_ds` with a batch size of `bs`. Passes `**dl_kwargs` to `DataLoader()`\n",
            " |  \n",
            " |  load_empty = _databunch_load_empty(path, fname:str='export.pkl') from builtins.type\n",
            " |      Load an empty `DataBunch` from the exported file in `path/fname` with optional `tfms`.\n",
            " |  \n",
            " |  ----------------------------------------------------------------------\n",
            " |  Data descriptors inherited from fastai.basic_data.DataBunch:\n",
            " |  \n",
            " |  __dict__\n",
            " |      dictionary for instance variables (if defined)\n",
            " |  \n",
            " |  __weakref__\n",
            " |      list of weak references to the object (if defined)\n",
            " |  \n",
            " |  batch_size\n",
            " |  \n",
            " |  dls\n",
            " |      Returns a list of all DeviceDataLoaders. If you need a specific DeviceDataLoader, access via the relevant property (`train_dl`, `valid_dl`, etc) as the index of DLs in this list is not guaranteed to remain constant.\n",
            " |  \n",
            " |  empty_val\n",
            " |  \n",
            " |  fix_ds\n",
            " |  \n",
            " |  is_empty\n",
            " |  \n",
            " |  loss_func\n",
            " |  \n",
            " |  single_ds\n",
            " |  \n",
            " |  test_ds\n",
            " |  \n",
            " |  train_ds\n",
            " |  \n",
            " |  valid_ds\n",
            "\n"
          ],
          "name": "stdout"
        }
      ]
    },
    {
      "cell_type": "code",
      "metadata": {
        "id": "7dWmr3tkcYoH",
        "colab_type": "code",
        "colab": {}
      },
      "source": [
        "data = ImageDataBunch.from_folder(path=path, train='train', valid='test', size=32, bs=bs, ds_tfms=get_transforms(), num_workers=0).normalize(imagenet_stats)\n"
      ],
      "execution_count": 0,
      "outputs": []
    },
    {
      "cell_type": "markdown",
      "metadata": {
        "id": "mdLWmXi1l8hU",
        "colab_type": "text"
      },
      "source": [
        "## Check the data"
      ]
    },
    {
      "cell_type": "code",
      "metadata": {
        "id": "_BfxJ_1jl-qz",
        "colab_type": "code",
        "colab": {
          "base_uri": "https://localhost:8080/",
          "height": 512
        },
        "outputId": "238645b8-7cc8-4dcc-e1e9-a86e092bb069"
      },
      "source": [
        "data.show_batch(rows=7, figsize=(7,7))"
      ],
      "execution_count": 37,
      "outputs": [
        {
          "output_type": "display_data",
          "data": {
            "image/png": "[encoded data removed]",
            "text/plain": [
              "<Figure size 504x504 with 49 Axes>"
            ]
          },
          "metadata": {
            "tags": []
          }
        }
      ]
    },
    {
      "cell_type": "markdown",
      "metadata": {
        "id": "rvIZjP6-meNu",
        "colab_type": "text"
      },
      "source": [
        "## Check our classes"
      ]
    },
    {
      "cell_type": "code",
      "metadata": {
        "id": "k9LEMTW8mij5",
        "colab_type": "code",
        "colab": {
          "base_uri": "https://localhost:8080/",
          "height": 51
        },
        "outputId": "3f73c6d0-43cc-4ad4-9776-6b2130a892cf"
      },
      "source": [
        "print(data.classes)\n",
        "len(data.classes),data.c"
      ],
      "execution_count": 39,
      "outputs": [
        {
          "output_type": "stream",
          "text": [
            "['airplane', 'automobile', 'bird', 'cat', 'deer', 'dog', 'frog', 'horse', 'ship', 'truck']\n"
          ],
          "name": "stdout"
        },
        {
          "output_type": "execute_result",
          "data": {
            "text/plain": [
              "(10, 10)"
            ]
          },
          "metadata": {
            "tags": []
          },
          "execution_count": 39
        }
      ]
    },
    {
      "cell_type": "markdown",
      "metadata": {
        "id": "jQrNmmtDnncC",
        "colab_type": "text"
      },
      "source": [
        "## Train our model. Try resnet34"
      ]
    },
    {
      "cell_type": "code",
      "metadata": {
        "id": "JEOS4JZpnzX-",
        "colab_type": "code",
        "colab": {
          "base_uri": "https://localhost:8080/",
          "height": 83,
          "referenced_widgets": [
            "3534403fd7d94ec5b857a62aadad1093",
            "c8f192f23faf4179a2a364641eedde2e",
            "5b47d17fa5a3432487a8c61910621b4a",
            "92d30038c24e497fbac0c99a1023617d",
            "8d6603f6c1994a228a9faa9187d32c52",
            "edac06c27079498db1ec1cf03e28c77b",
            "1c9534560c6a48f4b580c3cd09f0549a",
            "b9f1abef77334e00a73f2e28fa6d0c94"
          ]
        },
        "outputId": "3d9f4deb-1361-4d87-9484-bef9ecd4673a"
      },
      "source": [
        "learn = cnn_learner(data, models.resnet34, metrics=error_rate)"
      ],
      "execution_count": 40,
      "outputs": [
        {
          "output_type": "stream",
          "text": [
            "Downloading: \"https://download.pytorch.org/models/resnet34-333f7ec4.pth\" to /root/.cache/torch/checkpoints/resnet34-333f7ec4.pth\n"
          ],
          "name": "stderr"
        },
        {
          "output_type": "display_data",
          "data": {
            "application/vnd.jupyter.widget-view+json": {
              "model_id": "3534403fd7d94ec5b857a62aadad1093",
              "version_minor": 0,
              "version_major": 2
            },
            "text/plain": [
              "HBox(children=(IntProgress(value=0, max=87306240), HTML(value='')))"
            ]
          },
          "metadata": {
            "tags": []
          }
        },
        {
          "output_type": "stream",
          "text": [
            "\n"
          ],
          "name": "stdout"
        }
      ]
    },
    {
      "cell_type": "markdown",
      "metadata": {
        "id": "vZFnn4aCpvdT",
        "colab_type": "text"
      },
      "source": [
        "## Train for 4 epochs (4 cycles through all our data)."
      ]
    },
    {
      "cell_type": "code",
      "metadata": {
        "id": "_Mf573QIpp7w",
        "colab_type": "code",
        "colab": {
          "base_uri": "https://localhost:8080/",
          "height": 173
        },
        "outputId": "00ed0654-f3bc-448c-fe3a-4a1c4bb98ffd"
      },
      "source": [
        "learn.fit_one_cycle(4)"
      ],
      "execution_count": 41,
      "outputs": [
        {
          "output_type": "display_data",
          "data": {
            "text/html": [
              "<table border=\"1\" class=\"dataframe\">\n",
              "  <thead>\n",
              "    <tr style=\"text-align: left;\">\n",
              "      <th>epoch</th>\n",
              "      <th>train_loss</th>\n",
              "      <th>valid_loss</th>\n",
              "      <th>error_rate</th>\n",
              "      <th>time</th>\n",
              "    </tr>\n",
              "  </thead>\n",
              "  <tbody>\n",
              "    <tr>\n",
              "      <td>0</td>\n",
              "      <td>1.693228</td>\n",
              "      <td>1.495780</td>\n",
              "      <td>0.530900</td>\n",
              "      <td>01:57</td>\n",
              "    </tr>\n",
              "    <tr>\n",
              "      <td>1</td>\n",
              "      <td>1.337149</td>\n",
              "      <td>1.148055</td>\n",
              "      <td>0.401600</td>\n",
              "      <td>01:56</td>\n",
              "    </tr>\n",
              "    <tr>\n",
              "      <td>2</td>\n",
              "      <td>1.160732</td>\n",
              "      <td>1.017171</td>\n",
              "      <td>0.362400</td>\n",
              "      <td>01:56</td>\n",
              "    </tr>\n",
              "    <tr>\n",
              "      <td>3</td>\n",
              "      <td>1.117145</td>\n",
              "      <td>1.007487</td>\n",
              "      <td>0.354900</td>\n",
              "      <td>01:55</td>\n",
              "    </tr>\n",
              "  </tbody>\n",
              "</table>"
            ],
            "text/plain": [
              "<IPython.core.display.HTML object>"
            ]
          },
          "metadata": {
            "tags": []
          }
        }
      ]
    },
    {
      "cell_type": "markdown",
      "metadata": {
        "id": "Fsev1HSDqW3u",
        "colab_type": "text"
      },
      "source": [
        "## do 4 more cycles to improve score"
      ]
    },
    {
      "cell_type": "code",
      "metadata": {
        "id": "G6NIaTM8qdR-",
        "colab_type": "code",
        "colab": {
          "base_uri": "https://localhost:8080/",
          "height": 173
        },
        "outputId": "02ed8afd-c574-4f45-c4b9-7a61c2858c86"
      },
      "source": [
        "learn.fit_one_cycle(4)"
      ],
      "execution_count": 42,
      "outputs": [
        {
          "output_type": "display_data",
          "data": {
            "text/html": [
              "<table border=\"1\" class=\"dataframe\">\n",
              "  <thead>\n",
              "    <tr style=\"text-align: left;\">\n",
              "      <th>epoch</th>\n",
              "      <th>train_loss</th>\n",
              "      <th>valid_loss</th>\n",
              "      <th>error_rate</th>\n",
              "      <th>time</th>\n",
              "    </tr>\n",
              "  </thead>\n",
              "  <tbody>\n",
              "    <tr>\n",
              "      <td>0</td>\n",
              "      <td>1.131621</td>\n",
              "      <td>0.989680</td>\n",
              "      <td>0.352700</td>\n",
              "      <td>01:54</td>\n",
              "    </tr>\n",
              "    <tr>\n",
              "      <td>1</td>\n",
              "      <td>1.056046</td>\n",
              "      <td>0.916123</td>\n",
              "      <td>0.322500</td>\n",
              "      <td>01:53</td>\n",
              "    </tr>\n",
              "    <tr>\n",
              "      <td>2</td>\n",
              "      <td>0.974720</td>\n",
              "      <td>0.845235</td>\n",
              "      <td>0.295500</td>\n",
              "      <td>01:53</td>\n",
              "    </tr>\n",
              "    <tr>\n",
              "      <td>3</td>\n",
              "      <td>0.954933</td>\n",
              "      <td>0.853425</td>\n",
              "      <td>0.297700</td>\n",
              "      <td>01:50</td>\n",
              "    </tr>\n",
              "  </tbody>\n",
              "</table>"
            ],
            "text/plain": [
              "<IPython.core.display.HTML object>"
            ]
          },
          "metadata": {
            "tags": []
          }
        }
      ]
    },
    {
      "cell_type": "markdown",
      "metadata": {
        "id": "ZUyLSjjuqwUY",
        "colab_type": "text"
      },
      "source": [
        "## save model"
      ]
    },
    {
      "cell_type": "code",
      "metadata": {
        "id": "eNn0u-PKq0WD",
        "colab_type": "code",
        "colab": {}
      },
      "source": [
        "learn.save('stage-1')"
      ],
      "execution_count": 0,
      "outputs": []
    },
    {
      "cell_type": "markdown",
      "metadata": {
        "id": "46Pnz_yJrF2M",
        "colab_type": "text"
      },
      "source": [
        "## Check Results"
      ]
    },
    {
      "cell_type": "markdown",
      "metadata": {
        "id": "vVc5Ouf6reyY",
        "colab_type": "text"
      },
      "source": [
        "###   check where the model was confused"
      ]
    },
    {
      "cell_type": "code",
      "metadata": {
        "id": "is6A9ZHbrITl",
        "colab_type": "code",
        "colab": {
          "base_uri": "https://localhost:8080/",
          "height": 34
        },
        "outputId": "a4ed6f66-9e9b-4782-dd00-860b4caa87a9"
      },
      "source": [
        "interp = ClassificationInterpretation.from_learner(learn)\n",
        "\n",
        "losses,idxs = interp.top_losses()\n",
        "\n",
        "len(data.valid_ds)==len(losses)==len(idxs)"
      ],
      "execution_count": 45,
      "outputs": [
        {
          "output_type": "display_data",
          "data": {
            "text/html": [
              ""
            ],
            "text/plain": [
              "<IPython.core.display.HTML object>"
            ]
          },
          "metadata": {
            "tags": []
          }
        },
        {
          "output_type": "execute_result",
          "data": {
            "text/plain": [
              "True"
            ]
          },
          "metadata": {
            "tags": []
          },
          "execution_count": 45
        }
      ]
    },
    {
      "cell_type": "code",
      "metadata": {
        "id": "-4Py2N-FrR_Q",
        "colab_type": "code",
        "colab": {
          "base_uri": "https://localhost:8080/",
          "height": 523
        },
        "outputId": "7e693879-9d2e-4af4-8cc0-7d808f00158b"
      },
      "source": [
        "interp.plot_top_losses(9, figsize=(10,8))"
      ],
      "execution_count": 47,
      "outputs": [
        {
          "output_type": "display_data",
          "data": {
            "image/png": "[encoded data removed]",
            "text/plain": [
              "<Figure size 720x576 with 9 Axes>"
            ]
          },
          "metadata": {
            "tags": []
          }
        }
      ]
    },
    {
      "cell_type": "markdown",
      "metadata": {
        "id": "TkIlqtWir3fs",
        "colab_type": "text"
      },
      "source": [
        "###  confusion matrix"
      ]
    },
    {
      "cell_type": "code",
      "metadata": {
        "id": "zpzClo_tr7cc",
        "colab_type": "code",
        "colab": {
          "base_uri": "https://localhost:8080/",
          "height": 743
        },
        "outputId": "791f5809-e048-4e10-9007-37b5ef81f412"
      },
      "source": [
        "interp.plot_confusion_matrix(figsize=(12,12), dpi=60)"
      ],
      "execution_count": 48,
      "outputs": [
        {
          "output_type": "display_data",
          "data": {
            "image/png": "[encoded data removed]",
            "text/plain": [
              "<Figure size 720x720 with 1 Axes>"
            ]
          },
          "metadata": {
            "tags": []
          }
        }
      ]
    },
    {
      "cell_type": "markdown",
      "metadata": {
        "id": "4nQaItOPr8eD",
        "colab_type": "text"
      },
      "source": [
        "###  most confused"
      ]
    },
    {
      "cell_type": "code",
      "metadata": {
        "id": "BFbvPWK-sDw0",
        "colab_type": "code",
        "colab": {
          "base_uri": "https://localhost:8080/",
          "height": 1000
        },
        "outputId": "d5e41b2a-c6e5-4988-8e3f-65ac49b912af"
      },
      "source": [
        "interp.most_confused(min_val=2)"
      ],
      "execution_count": 49,
      "outputs": [
        {
          "output_type": "execute_result",
          "data": {
            "text/plain": [
              "[('cat', 'frog', 166),\n",
              " ('dog', 'cat', 165),\n",
              " ('bird', 'frog', 150),\n",
              " ('truck', 'automobile', 137),\n",
              " ('deer', 'frog', 136),\n",
              " ('dog', 'frog', 96),\n",
              " ('deer', 'horse', 94),\n",
              " ('cat', 'dog', 93),\n",
              " ('bird', 'deer', 92),\n",
              " ('airplane', 'ship', 87),\n",
              " ('dog', 'horse', 84),\n",
              " ('bird', 'airplane', 73),\n",
              " ('cat', 'deer', 71),\n",
              " ('automobile', 'truck', 69),\n",
              " ('ship', 'airplane', 64),\n",
              " ('ship', 'automobile', 58),\n",
              " ('dog', 'deer', 57),\n",
              " ('cat', 'bird', 55),\n",
              " ('horse', 'deer', 55),\n",
              " ('deer', 'bird', 50),\n",
              " ('cat', 'horse', 44),\n",
              " ('bird', 'dog', 38),\n",
              " ('deer', 'cat', 36),\n",
              " ('airplane', 'automobile', 35),\n",
              " ('airplane', 'truck', 35),\n",
              " ('bird', 'horse', 35),\n",
              " ('dog', 'bird', 35),\n",
              " ('airplane', 'bird', 34),\n",
              " ('automobile', 'ship', 34),\n",
              " ('bird', 'cat', 33),\n",
              " ('frog', 'deer', 32),\n",
              " ('ship', 'truck', 32),\n",
              " ('horse', 'cat', 31),\n",
              " ('horse', 'dog', 29),\n",
              " ('cat', 'truck', 28),\n",
              " ('truck', 'airplane', 28),\n",
              " ('cat', 'automobile', 27),\n",
              " ('airplane', 'horse', 24),\n",
              " ('truck', 'ship', 24),\n",
              " ('deer', 'airplane', 23),\n",
              " ('horse', 'airplane', 23),\n",
              " ('horse', 'frog', 23),\n",
              " ('frog', 'bird', 22),\n",
              " ('frog', 'cat', 22),\n",
              " ('cat', 'airplane', 21),\n",
              " ('cat', 'ship', 21),\n",
              " ('horse', 'truck', 21),\n",
              " ('airplane', 'deer', 19),\n",
              " ('truck', 'horse', 19),\n",
              " ('bird', 'automobile', 18),\n",
              " ('frog', 'automobile', 17),\n",
              " ('horse', 'automobile', 17),\n",
              " ('dog', 'automobile', 16),\n",
              " ('horse', 'bird', 16),\n",
              " ('deer', 'ship', 14),\n",
              " ('deer', 'truck', 14),\n",
              " ('bird', 'ship', 13),\n",
              " ('automobile', 'airplane', 12),\n",
              " ('deer', 'dog', 12),\n",
              " ('automobile', 'frog', 10),\n",
              " ('dog', 'truck', 10),\n",
              " ('frog', 'dog', 10),\n",
              " ('dog', 'airplane', 9),\n",
              " ('ship', 'deer', 9),\n",
              " ('airplane', 'frog', 8),\n",
              " ('ship', 'frog', 8),\n",
              " ('frog', 'horse', 7),\n",
              " ('automobile', 'horse', 6),\n",
              " ('bird', 'truck', 6),\n",
              " ('deer', 'automobile', 6),\n",
              " ('truck', 'cat', 6),\n",
              " ('airplane', 'cat', 5),\n",
              " ('automobile', 'cat', 5),\n",
              " ('dog', 'ship', 5),\n",
              " ('frog', 'truck', 5),\n",
              " ('frog', 'ship', 4),\n",
              " ('frog', 'airplane', 3),\n",
              " ('horse', 'ship', 3),\n",
              " ('ship', 'bird', 3),\n",
              " ('ship', 'cat', 3),\n",
              " ('ship', 'horse', 3),\n",
              " ('truck', 'deer', 3),\n",
              " ('truck', 'frog', 3),\n",
              " ('airplane', 'dog', 2),\n",
              " ('truck', 'dog', 2)]"
            ]
          },
          "metadata": {
            "tags": []
          },
          "execution_count": 49
        }
      ]
    },
    {
      "cell_type": "markdown",
      "metadata": {
        "id": "2SvbZFCWtAJk",
        "colab_type": "text"
      },
      "source": [
        "## Unfreezing, fine-tuning, and learning rates"
      ]
    },
    {
      "cell_type": "code",
      "metadata": {
        "id": "f__ZHu-ztID1",
        "colab_type": "code",
        "colab": {}
      },
      "source": [
        "learn.unfreeze()"
      ],
      "execution_count": 0,
      "outputs": []
    },
    {
      "cell_type": "code",
      "metadata": {
        "id": "QWzUft6itI1W",
        "colab_type": "code",
        "colab": {
          "base_uri": "https://localhost:8080/",
          "height": 80
        },
        "outputId": "2a94c8ef-6304-4e01-ea7e-dfa4c7858c26"
      },
      "source": [
        "learn.fit_one_cycle(1)"
      ],
      "execution_count": 51,
      "outputs": [
        {
          "output_type": "display_data",
          "data": {
            "text/html": [
              "<table border=\"1\" class=\"dataframe\">\n",
              "  <thead>\n",
              "    <tr style=\"text-align: left;\">\n",
              "      <th>epoch</th>\n",
              "      <th>train_loss</th>\n",
              "      <th>valid_loss</th>\n",
              "      <th>error_rate</th>\n",
              "      <th>time</th>\n",
              "    </tr>\n",
              "  </thead>\n",
              "  <tbody>\n",
              "    <tr>\n",
              "      <td>0</td>\n",
              "      <td>0.660079</td>\n",
              "      <td>0.562835</td>\n",
              "      <td>0.196800</td>\n",
              "      <td>02:00</td>\n",
              "    </tr>\n",
              "  </tbody>\n",
              "</table>"
            ],
            "text/plain": [
              "<IPython.core.display.HTML object>"
            ]
          },
          "metadata": {
            "tags": []
          }
        }
      ]
    },
    {
      "cell_type": "code",
      "metadata": {
        "id": "rf_nyVc8tWAe",
        "colab_type": "code",
        "colab": {
          "base_uri": "https://localhost:8080/",
          "height": 279
        },
        "outputId": "f634f4ae-b3cc-44d9-c895-b5b1803d36c9"
      },
      "source": [
        "learn.recorder.plot()"
      ],
      "execution_count": 52,
      "outputs": [
        {
          "output_type": "display_data",
          "data": {
            "image/png": "[encoded data removed]",
            "text/plain": [
              "<Figure size 432x288 with 1 Axes>"
            ]
          },
          "metadata": {
            "tags": []
          }
        }
      ]
    },
    {
      "cell_type": "code",
      "metadata": {
        "id": "UufuW5sauNWj",
        "colab_type": "code",
        "colab": {
          "base_uri": "https://localhost:8080/",
          "height": 111
        },
        "outputId": "edb22ae9-eb7b-4f47-bd66-85fdd5d2ce82"
      },
      "source": [
        "learn.unfreeze()\n",
        "learn.fit_one_cycle(2, max_lr=slice(1e-6,1e-4))"
      ],
      "execution_count": 53,
      "outputs": [
        {
          "output_type": "display_data",
          "data": {
            "text/html": [
              "<table border=\"1\" class=\"dataframe\">\n",
              "  <thead>\n",
              "    <tr style=\"text-align: left;\">\n",
              "      <th>epoch</th>\n",
              "      <th>train_loss</th>\n",
              "      <th>valid_loss</th>\n",
              "      <th>error_rate</th>\n",
              "      <th>time</th>\n",
              "    </tr>\n",
              "  </thead>\n",
              "  <tbody>\n",
              "    <tr>\n",
              "      <td>0</td>\n",
              "      <td>0.584306</td>\n",
              "      <td>0.541278</td>\n",
              "      <td>0.190100</td>\n",
              "      <td>02:02</td>\n",
              "    </tr>\n",
              "    <tr>\n",
              "      <td>1</td>\n",
              "      <td>0.557657</td>\n",
              "      <td>0.534194</td>\n",
              "      <td>0.186600</td>\n",
              "      <td>02:01</td>\n",
              "    </tr>\n",
              "  </tbody>\n",
              "</table>"
            ],
            "text/plain": [
              "<IPython.core.display.HTML object>"
            ]
          },
          "metadata": {
            "tags": []
          }
        }
      ]
    },
    {
      "cell_type": "markdown",
      "metadata": {
        "id": "29afuniyvTrk",
        "colab_type": "text"
      },
      "source": [
        "# Training with resnet50"
      ]
    },
    {
      "cell_type": "code",
      "metadata": {
        "id": "EXzt4fC8vkCL",
        "colab_type": "code",
        "colab": {}
      },
      "source": [
        "data = ImageDataBunch.from_folder(path=path, train='train', valid='test', size=32, bs=bs, ds_tfms=get_transforms(), num_workers=0).normalize(imagenet_stats)\n"
      ],
      "execution_count": 0,
      "outputs": []
    },
    {
      "cell_type": "code",
      "metadata": {
        "id": "wkHAgGnjvlGF",
        "colab_type": "code",
        "colab": {
          "base_uri": "https://localhost:8080/",
          "height": 83,
          "referenced_widgets": [
            "8bc682d9193443728f90ad960c89805c",
            "5029535363f94bc8a7775cdc871c1b33",
            "be8b7a33e3324d66b46bf38a4ce0c1cd",
            "a5b25579aaa146aab3f9e40b8dd26eb7",
            "6756c87ef97c4cfea431bb186580c035",
            "9800d6484f304ffca9941d1b541c2d7c",
            "9143540ffd224e0fbd2d1dbab2308e49",
            "6111e4c4e7c740929d20975bab063954"
          ]
        },
        "outputId": "9c31f7be-c7fc-43ac-c1b1-0109fca56317"
      },
      "source": [
        "learn = cnn_learner(data, models.resnet50, metrics=error_rate)"
      ],
      "execution_count": 55,
      "outputs": [
        {
          "output_type": "stream",
          "text": [
            "Downloading: \"https://download.pytorch.org/models/resnet50-19c8e357.pth\" to /root/.cache/torch/checkpoints/resnet50-19c8e357.pth\n"
          ],
          "name": "stderr"
        },
        {
          "output_type": "display_data",
          "data": {
            "application/vnd.jupyter.widget-view+json": {
              "model_id": "8bc682d9193443728f90ad960c89805c",
              "version_minor": 0,
              "version_major": 2
            },
            "text/plain": [
              "HBox(children=(IntProgress(value=0, max=102502400), HTML(value='')))"
            ]
          },
          "metadata": {
            "tags": []
          }
        },
        {
          "output_type": "stream",
          "text": [
            "\n"
          ],
          "name": "stdout"
        }
      ]
    },
    {
      "cell_type": "code",
      "metadata": {
        "id": "jou82bKMvoDX",
        "colab_type": "code",
        "colab": {
          "base_uri": "https://localhost:8080/",
          "height": 374
        },
        "outputId": "c87a6af3-d80b-4d04-fee6-e22c34f5a84e"
      },
      "source": [
        "learn.lr_find()\n",
        "learn.recorder.plot()"
      ],
      "execution_count": 56,
      "outputs": [
        {
          "output_type": "display_data",
          "data": {
            "text/html": [
              "\n",
              "    <div>\n",
              "        <style>\n",
              "            /* Turns off some styling */\n",
              "            progress {\n",
              "                /* gets rid of default border in Firefox and Opera. */\n",
              "                border: none;\n",
              "                /* Needs to be in here for Safari polyfill so background images work as expected. */\n",
              "                background-size: auto;\n",
              "            }\n",
              "            .progress-bar-interrupted, .progress-bar-interrupted::-webkit-progress-bar {\n",
              "                background: #F44336;\n",
              "            }\n",
              "        </style>\n",
              "      <progress value='0' class='' max='1', style='width:300px; height:20px; vertical-align: middle;'></progress>\n",
              "      0.00% [0/1 00:00<00:00]\n",
              "    </div>\n",
              "    \n",
              "<table border=\"1\" class=\"dataframe\">\n",
              "  <thead>\n",
              "    <tr style=\"text-align: left;\">\n",
              "      <th>epoch</th>\n",
              "      <th>train_loss</th>\n",
              "      <th>valid_loss</th>\n",
              "      <th>error_rate</th>\n",
              "      <th>time</th>\n",
              "    </tr>\n",
              "  </thead>\n",
              "  <tbody>\n",
              "  </tbody>\n",
              "</table><p>\n",
              "\n",
              "    <div>\n",
              "        <style>\n",
              "            /* Turns off some styling */\n",
              "            progress {\n",
              "                /* gets rid of default border in Firefox and Opera. */\n",
              "                border: none;\n",
              "                /* Needs to be in here for Safari polyfill so background images work as expected. */\n",
              "                background-size: auto;\n",
              "            }\n",
              "            .progress-bar-interrupted, .progress-bar-interrupted::-webkit-progress-bar {\n",
              "                background: #F44336;\n",
              "            }\n",
              "        </style>\n",
              "      <progress value='90' class='' max='781', style='width:300px; height:20px; vertical-align: middle;'></progress>\n",
              "      11.52% [90/781 00:14<01:50 11.8976]\n",
              "    </div>\n",
              "    "
            ],
            "text/plain": [
              "<IPython.core.display.HTML object>"
            ]
          },
          "metadata": {
            "tags": []
          }
        },
        {
          "output_type": "stream",
          "text": [
            "LR Finder is complete, type {learner_name}.recorder.plot() to see the graph.\n"
          ],
          "name": "stdout"
        },
        {
          "output_type": "display_data",
          "data": {
            "image/png": "[encoded data removed]",
            "text/plain": [
              "<Figure size 432x288 with 1 Axes>"
            ]
          },
          "metadata": {
            "tags": []
          }
        }
      ]
    },
    {
      "cell_type": "code",
      "metadata": {
        "id": "LqPKGARhvq12",
        "colab_type": "code",
        "colab": {
          "base_uri": "https://localhost:8080/",
          "height": 297
        },
        "outputId": "c1eb3887-3637-4f5f-cf6b-59408428e6ea"
      },
      "source": [
        "learn.fit_one_cycle(8)"
      ],
      "execution_count": 57,
      "outputs": [
        {
          "output_type": "display_data",
          "data": {
            "text/html": [
              "<table border=\"1\" class=\"dataframe\">\n",
              "  <thead>\n",
              "    <tr style=\"text-align: left;\">\n",
              "      <th>epoch</th>\n",
              "      <th>train_loss</th>\n",
              "      <th>valid_loss</th>\n",
              "      <th>error_rate</th>\n",
              "      <th>time</th>\n",
              "    </tr>\n",
              "  </thead>\n",
              "  <tbody>\n",
              "    <tr>\n",
              "      <td>0</td>\n",
              "      <td>1.823898</td>\n",
              "      <td>1.524717</td>\n",
              "      <td>0.520700</td>\n",
              "      <td>02:04</td>\n",
              "    </tr>\n",
              "    <tr>\n",
              "      <td>1</td>\n",
              "      <td>1.390973</td>\n",
              "      <td>1.196763</td>\n",
              "      <td>0.421500</td>\n",
              "      <td>02:04</td>\n",
              "    </tr>\n",
              "    <tr>\n",
              "      <td>2</td>\n",
              "      <td>1.117869</td>\n",
              "      <td>1.048093</td>\n",
              "      <td>0.346700</td>\n",
              "      <td>02:06</td>\n",
              "    </tr>\n",
              "    <tr>\n",
              "      <td>3</td>\n",
              "      <td>0.974022</td>\n",
              "      <td>0.836898</td>\n",
              "      <td>0.293800</td>\n",
              "      <td>02:07</td>\n",
              "    </tr>\n",
              "    <tr>\n",
              "      <td>4</td>\n",
              "      <td>0.875731</td>\n",
              "      <td>0.773178</td>\n",
              "      <td>0.268900</td>\n",
              "      <td>02:05</td>\n",
              "    </tr>\n",
              "    <tr>\n",
              "      <td>5</td>\n",
              "      <td>0.819208</td>\n",
              "      <td>0.724030</td>\n",
              "      <td>0.256500</td>\n",
              "      <td>02:04</td>\n",
              "    </tr>\n",
              "    <tr>\n",
              "      <td>6</td>\n",
              "      <td>0.812247</td>\n",
              "      <td>0.713886</td>\n",
              "      <td>0.253300</td>\n",
              "      <td>02:04</td>\n",
              "    </tr>\n",
              "    <tr>\n",
              "      <td>7</td>\n",
              "      <td>0.774322</td>\n",
              "      <td>0.719134</td>\n",
              "      <td>0.254400</td>\n",
              "      <td>02:00</td>\n",
              "    </tr>\n",
              "  </tbody>\n",
              "</table>"
            ],
            "text/plain": [
              "<IPython.core.display.HTML object>"
            ]
          },
          "metadata": {
            "tags": []
          }
        }
      ]
    },
    {
      "cell_type": "code",
      "metadata": {
        "id": "CWy-6wXkv0YM",
        "colab_type": "code",
        "colab": {}
      },
      "source": [
        "learn.save('stage-1-50')"
      ],
      "execution_count": 0,
      "outputs": []
    },
    {
      "cell_type": "code",
      "metadata": {
        "id": "6st95wsfv1PR",
        "colab_type": "code",
        "colab": {
          "base_uri": "https://localhost:8080/",
          "height": 142
        },
        "outputId": "f9af58f4-8367-4723-8446-e3452be58364"
      },
      "source": [
        "learn.unfreeze()\n",
        "learn.fit_one_cycle(3, max_lr=slice(1e-6,1e-4))"
      ],
      "execution_count": 59,
      "outputs": [
        {
          "output_type": "display_data",
          "data": {
            "text/html": [
              "<table border=\"1\" class=\"dataframe\">\n",
              "  <thead>\n",
              "    <tr style=\"text-align: left;\">\n",
              "      <th>epoch</th>\n",
              "      <th>train_loss</th>\n",
              "      <th>valid_loss</th>\n",
              "      <th>error_rate</th>\n",
              "      <th>time</th>\n",
              "    </tr>\n",
              "  </thead>\n",
              "  <tbody>\n",
              "    <tr>\n",
              "      <td>0</td>\n",
              "      <td>0.758788</td>\n",
              "      <td>0.678479</td>\n",
              "      <td>0.234400</td>\n",
              "      <td>02:04</td>\n",
              "    </tr>\n",
              "    <tr>\n",
              "      <td>1</td>\n",
              "      <td>0.708020</td>\n",
              "      <td>0.631650</td>\n",
              "      <td>0.219900</td>\n",
              "      <td>02:05</td>\n",
              "    </tr>\n",
              "    <tr>\n",
              "      <td>2</td>\n",
              "      <td>0.689025</td>\n",
              "      <td>0.620481</td>\n",
              "      <td>0.218600</td>\n",
              "      <td>02:03</td>\n",
              "    </tr>\n",
              "  </tbody>\n",
              "</table>"
            ],
            "text/plain": [
              "<IPython.core.display.HTML object>"
            ]
          },
          "metadata": {
            "tags": []
          }
        }
      ]
    },
    {
      "cell_type": "code",
      "metadata": {
        "id": "UmsEVSITv4ia",
        "colab_type": "code",
        "colab": {
          "base_uri": "https://localhost:8080/",
          "height": 142
        },
        "outputId": "8e01e3f3-6b0f-43e6-a4fc-94f692f48bae"
      },
      "source": [
        "learn.fit_one_cycle(3, max_lr=slice(1e-6,1e-4))"
      ],
      "execution_count": 60,
      "outputs": [
        {
          "output_type": "display_data",
          "data": {
            "text/html": [
              "<table border=\"1\" class=\"dataframe\">\n",
              "  <thead>\n",
              "    <tr style=\"text-align: left;\">\n",
              "      <th>epoch</th>\n",
              "      <th>train_loss</th>\n",
              "      <th>valid_loss</th>\n",
              "      <th>error_rate</th>\n",
              "      <th>time</th>\n",
              "    </tr>\n",
              "  </thead>\n",
              "  <tbody>\n",
              "    <tr>\n",
              "      <td>0</td>\n",
              "      <td>0.666848</td>\n",
              "      <td>0.604725</td>\n",
              "      <td>0.213700</td>\n",
              "      <td>02:07</td>\n",
              "    </tr>\n",
              "    <tr>\n",
              "      <td>1</td>\n",
              "      <td>0.620586</td>\n",
              "      <td>0.583457</td>\n",
              "      <td>0.202900</td>\n",
              "      <td>02:10</td>\n",
              "    </tr>\n",
              "    <tr>\n",
              "      <td>2</td>\n",
              "      <td>0.612064</td>\n",
              "      <td>0.566348</td>\n",
              "      <td>0.199400</td>\n",
              "      <td>02:08</td>\n",
              "    </tr>\n",
              "  </tbody>\n",
              "</table>"
            ],
            "text/plain": [
              "<IPython.core.display.HTML object>"
            ]
          },
          "metadata": {
            "tags": []
          }
        }
      ]
    },
    {
      "cell_type": "code",
      "metadata": {
        "id": "6Ax2NAFH3J_D",
        "colab_type": "code",
        "colab": {
          "base_uri": "https://localhost:8080/",
          "height": 17
        },
        "outputId": "d06245a2-3937-4821-af93-2bb6b221c9db"
      },
      "source": [
        "interp = ClassificationInterpretation.from_learner(learn)"
      ],
      "execution_count": 61,
      "outputs": [
        {
          "output_type": "display_data",
          "data": {
            "text/html": [
              ""
            ],
            "text/plain": [
              "<IPython.core.display.HTML object>"
            ]
          },
          "metadata": {
            "tags": []
          }
        }
      ]
    },
    {
      "cell_type": "code",
      "metadata": {
        "id": "bXaFDHgd3LS1",
        "colab_type": "code",
        "colab": {
          "base_uri": "https://localhost:8080/",
          "height": 1000
        },
        "outputId": "ce45464f-cef5-4a79-9c8b-ef54650f7d2e"
      },
      "source": [
        "interp.most_confused(min_val=2)"
      ],
      "execution_count": 62,
      "outputs": [
        {
          "output_type": "execute_result",
          "data": {
            "text/plain": [
              "[('dog', 'cat', 155),\n",
              " ('cat', 'dog', 120),\n",
              " ('cat', 'frog', 90),\n",
              " ('deer', 'frog', 76),\n",
              " ('bird', 'frog', 75),\n",
              " ('automobile', 'truck', 69),\n",
              " ('deer', 'horse', 69),\n",
              " ('bird', 'deer', 68),\n",
              " ('deer', 'bird', 57),\n",
              " ('truck', 'automobile', 57),\n",
              " ('bird', 'airplane', 51),\n",
              " ('ship', 'airplane', 51),\n",
              " ('dog', 'horse', 45),\n",
              " ('cat', 'bird', 44),\n",
              " ('ship', 'truck', 43),\n",
              " ('airplane', 'ship', 42),\n",
              " ('cat', 'deer', 42),\n",
              " ('airplane', 'truck', 40),\n",
              " ('cat', 'horse', 37),\n",
              " ('dog', 'frog', 37),\n",
              " ('horse', 'dog', 36),\n",
              " ('deer', 'cat', 35),\n",
              " ('dog', 'deer', 34),\n",
              " ('horse', 'deer', 31),\n",
              " ('bird', 'cat', 30),\n",
              " ('bird', 'dog', 30),\n",
              " ('ship', 'automobile', 29),\n",
              " ('airplane', 'automobile', 23),\n",
              " ('cat', 'truck', 23),\n",
              " ('frog', 'bird', 23),\n",
              " ('airplane', 'bird', 22),\n",
              " ('horse', 'cat', 22),\n",
              " ('dog', 'bird', 21),\n",
              " ('frog', 'cat', 21),\n",
              " ('bird', 'horse', 20),\n",
              " ('cat', 'automobile', 19),\n",
              " ('deer', 'dog', 18),\n",
              " ('deer', 'airplane', 14),\n",
              " ('horse', 'frog', 14),\n",
              " ('airplane', 'deer', 13),\n",
              " ('cat', 'ship', 13),\n",
              " ('horse', 'truck', 13),\n",
              " ('truck', 'airplane', 12),\n",
              " ('automobile', 'ship', 11),\n",
              " ('horse', 'airplane', 10),\n",
              " ('airplane', 'horse', 9),\n",
              " ('automobile', 'airplane', 9),\n",
              " ('dog', 'automobile', 9),\n",
              " ('dog', 'truck', 9),\n",
              " ('frog', 'deer', 9),\n",
              " ('frog', 'dog', 9),\n",
              " ('horse', 'bird', 8),\n",
              " ('airplane', 'frog', 7),\n",
              " ('frog', 'automobile', 7),\n",
              " ('airplane', 'cat', 6),\n",
              " ('cat', 'airplane', 6),\n",
              " ('ship', 'bird', 6),\n",
              " ('ship', 'cat', 6),\n",
              " ('truck', 'ship', 6),\n",
              " ('automobile', 'frog', 5),\n",
              " ('bird', 'ship', 5),\n",
              " ('deer', 'ship', 5),\n",
              " ('dog', 'airplane', 5),\n",
              " ('frog', 'horse', 5),\n",
              " ('truck', 'cat', 5),\n",
              " ('bird', 'automobile', 4),\n",
              " ('deer', 'truck', 4),\n",
              " ('dog', 'ship', 4),\n",
              " ('frog', 'truck', 4),\n",
              " ('horse', 'ship', 4),\n",
              " ('ship', 'deer', 4),\n",
              " ('truck', 'horse', 4),\n",
              " ('automobile', 'horse', 3),\n",
              " ('bird', 'truck', 3),\n",
              " ('airplane', 'dog', 2),\n",
              " ('automobile', 'cat', 2),\n",
              " ('deer', 'automobile', 2),\n",
              " ('frog', 'airplane', 2),\n",
              " ('frog', 'ship', 2),\n",
              " ('horse', 'automobile', 2),\n",
              " ('ship', 'horse', 2),\n",
              " ('truck', 'bird', 2)]"
            ]
          },
          "metadata": {
            "tags": []
          },
          "execution_count": 62
        }
      ]
    }
  ]
}